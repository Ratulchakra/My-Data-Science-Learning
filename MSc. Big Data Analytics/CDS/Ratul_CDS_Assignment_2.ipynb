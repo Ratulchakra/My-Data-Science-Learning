{
 "cells": [
  {
   "cell_type": "markdown",
   "id": "f5c36d05",
   "metadata": {},
   "source": [
    "# Ratul Chakraborty\n",
    "# BDA 2nd Sem"
   ]
  },
  {
   "cell_type": "code",
   "execution_count": 1,
   "id": "45b8a26d",
   "metadata": {},
   "outputs": [],
   "source": [
    "import numpy as np\n",
    "import pandas as pd"
   ]
  },
  {
   "cell_type": "markdown",
   "id": "97a5882d",
   "metadata": {},
   "source": [
    "# Problem 1"
   ]
  },
  {
   "cell_type": "code",
   "execution_count": 2,
   "id": "7959dd93",
   "metadata": {},
   "outputs": [
    {
     "name": "stdout",
     "output_type": "stream",
     "text": [
      "Enter a: 10\n",
      "Enter b: 100\n",
      "Enter n: 30\n"
     ]
    },
    {
     "data": {
      "text/plain": [
       "array([23, 91, 21, 33, 47, 90, 39, 87, 40, 55, 36, 63, 56, 49, 60, 70, 85,\n",
       "       65, 69, 37, 75, 75, 59, 15, 62, 81, 80, 27, 33, 38], dtype=int64)"
      ]
     },
     "execution_count": 2,
     "metadata": {},
     "output_type": "execute_result"
    }
   ],
   "source": [
    "a = int(input(\"Enter a: \"))\n",
    "b = int(input(\"Enter b: \"))\n",
    "n = int(input(\"Enter n: \"))\n",
    "arr = np.random.randint(a, b, n, dtype = np.int64)\n",
    "arr"
   ]
  },
  {
   "cell_type": "code",
   "execution_count": 3,
   "id": "f416aefe",
   "metadata": {},
   "outputs": [
    {
     "data": {
      "text/plain": [
       "2.220446049250313e-16"
      ]
     },
     "execution_count": 3,
     "metadata": {},
     "output_type": "execute_result"
    }
   ],
   "source": [
    "epsilon = np.finfo(float).eps; epsilon"
   ]
  },
  {
   "cell_type": "code",
   "execution_count": 4,
   "id": "770ef97b",
   "metadata": {},
   "outputs": [
    {
     "data": {
      "text/plain": [
       "dtype('float64')"
      ]
     },
     "execution_count": 4,
     "metadata": {},
     "output_type": "execute_result"
    }
   ],
   "source": [
    "epsilon.dtype"
   ]
  },
  {
   "cell_type": "code",
   "execution_count": 5,
   "id": "cf8699ff",
   "metadata": {},
   "outputs": [
    {
     "data": {
      "text/plain": [
       "array([ 7.33528109, 10.21096637,  2.50580918,  5.53232414,  9.62416072,\n",
       "        2.22457498, 19.50882211, 14.54663778, 17.43491188, 21.94224517,\n",
       "       16.880325  , 12.76951426, 17.46422213, 11.30855081,  6.46580963,\n",
       "        4.09625833, 21.75653718,  3.75462796, 16.95885785, 13.2692141 ,\n",
       "        3.38404663, 19.14497695, 20.09125849, 15.59404866, 18.31340385,\n",
       "       11.3024492 , 16.98489428,  4.46760526,  2.94264311,  6.54421813])"
      ]
     },
     "execution_count": 5,
     "metadata": {},
     "output_type": "execute_result"
    }
   ],
   "source": [
    "ar = np.random.randint(10**12, 10**13, n, dtype = np.int64)*epsilon*(10**4)\n",
    "ar"
   ]
  },
  {
   "cell_type": "code",
   "execution_count": 6,
   "id": "084e5f9d",
   "metadata": {},
   "outputs": [
    {
     "data": {
      "text/plain": [
       "array([ 30.33528109, 101.21096637,  23.50580918,  38.53232414,\n",
       "        56.62416072,  92.22457498,  58.50882211, 101.54663778,\n",
       "        57.43491188,  76.94224517,  52.880325  ,  75.76951426,\n",
       "        73.46422213,  60.30855081,  66.46580963,  74.09625833,\n",
       "       106.75653718,  68.75462796,  85.95885785,  50.2692141 ,\n",
       "        78.38404663,  94.14497695,  79.09125849,  30.59404866,\n",
       "        80.31340385,  92.3024492 ,  96.98489428,  31.46760526,\n",
       "        35.94264311,  44.54421813])"
      ]
     },
     "execution_count": 6,
     "metadata": {},
     "output_type": "execute_result"
    }
   ],
   "source": [
    "floats = arr + ar; floats"
   ]
  },
  {
   "cell_type": "markdown",
   "id": "d918e56b",
   "metadata": {},
   "source": [
    "### Unsorted and Sorted Sum"
   ]
  },
  {
   "cell_type": "code",
   "execution_count": 7,
   "id": "1bd1eb4d",
   "metadata": {},
   "outputs": [],
   "source": [
    "sort_sum = sum(np.sort(floats))\n",
    "unsort_sum = sum(floats)"
   ]
  },
  {
   "cell_type": "code",
   "execution_count": 8,
   "id": "bfebc99d",
   "metadata": {},
   "outputs": [
    {
     "data": {
      "text/plain": [
       "4.547473508864641e-13"
      ]
     },
     "execution_count": 8,
     "metadata": {},
     "output_type": "execute_result"
    }
   ],
   "source": [
    "# Error\n",
    "unsort_sum - sort_sum"
   ]
  },
  {
   "cell_type": "markdown",
   "id": "c6c987e9",
   "metadata": {},
   "source": [
    "### Compensated and Sorted Sum"
   ]
  },
  {
   "cell_type": "code",
   "execution_count": 9,
   "id": "1d63e72a",
   "metadata": {},
   "outputs": [
    {
     "data": {
      "text/plain": [
       "2015.3591952511993"
      ]
     },
     "execution_count": 9,
     "metadata": {},
     "output_type": "execute_result"
    }
   ],
   "source": [
    "compen_sum = 0\n",
    "y = 0\n",
    "for i in range(n):\n",
    "    z = y+floats[i]\n",
    "    w = compen_sum + z\n",
    "    y = compen_sum - w + z\n",
    "    compen_sum = w\n",
    "compen_sum"
   ]
  },
  {
   "cell_type": "code",
   "execution_count": 10,
   "id": "0af59721",
   "metadata": {},
   "outputs": [
    {
     "data": {
      "text/plain": [
       "4.547473508864641e-13"
      ]
     },
     "execution_count": 10,
     "metadata": {},
     "output_type": "execute_result"
    }
   ],
   "source": [
    "# Error\n",
    "compen_sum - sort_sum"
   ]
  },
  {
   "cell_type": "markdown",
   "id": "fa7900e9",
   "metadata": {},
   "source": [
    "### Unsorted and Compensated Sum"
   ]
  },
  {
   "cell_type": "code",
   "execution_count": 11,
   "id": "af92298c",
   "metadata": {},
   "outputs": [
    {
     "data": {
      "text/plain": [
       "0.0"
      ]
     },
     "execution_count": 11,
     "metadata": {},
     "output_type": "execute_result"
    }
   ],
   "source": [
    "unsort_sum - compen_sum"
   ]
  },
  {
   "cell_type": "markdown",
   "id": "9acd68c0",
   "metadata": {},
   "source": [
    "# Problem 2"
   ]
  },
  {
   "cell_type": "code",
   "execution_count": 17,
   "id": "c04b53f2",
   "metadata": {},
   "outputs": [
    {
     "name": "stdout",
     "output_type": "stream",
     "text": [
      "Principal Amount: 1000\n",
      "Interest rate: 7\n"
     ]
    }
   ],
   "source": [
    "c = int(input(\"Principal Amount: \"))\n",
    "i = int(input(\"Interest rate: \"))\n",
    "n = 365\n",
    "x = i/n"
   ]
  },
  {
   "cell_type": "markdown",
   "id": "79576bcc",
   "metadata": {},
   "source": [
    "### Simple Compound Inerest"
   ]
  },
  {
   "cell_type": "code",
   "execution_count": 18,
   "id": "3106336f",
   "metadata": {},
   "outputs": [
    {
     "data": {
      "text/plain": [
       "53462465.90670795"
      ]
     },
     "execution_count": 18,
     "metadata": {},
     "output_type": "execute_result"
    }
   ],
   "source": [
    "compound_simple = c*((1+x)**n - 1)/x\n",
    "compound_simple"
   ]
  },
  {
   "cell_type": "markdown",
   "id": "168a1cec",
   "metadata": {},
   "source": [
    "### Compound Interest through log(1+x) function"
   ]
  },
  {
   "cell_type": "code",
   "execution_count": 19,
   "id": "e3c43f74",
   "metadata": {
    "scrolled": true
   },
   "outputs": [
    {
     "data": {
      "text/plain": [
       "53462465.90670736"
      ]
     },
     "execution_count": 19,
     "metadata": {},
     "output_type": "execute_result"
    }
   ],
   "source": [
    "compound_given = c*(np.exp(n*((x*np.log(1+x))/((1+x)-1)))-1)/x\n",
    "compound_given"
   ]
  },
  {
   "cell_type": "markdown",
   "id": "5013b45c",
   "metadata": {},
   "source": [
    "### Compound Interest through Maclaurin Series"
   ]
  },
  {
   "cell_type": "code",
   "execution_count": 20,
   "id": "ebc3534f",
   "metadata": {},
   "outputs": [
    {
     "data": {
      "text/plain": [
       "53462465.906707406"
      ]
     },
     "execution_count": 20,
     "metadata": {},
     "output_type": "execute_result"
    }
   ],
   "source": [
    "mac = 0\n",
    "for i in range(1, 366):\n",
    "    mac += (-1)**(i+1)*(x**i)/i\n",
    "    \n",
    "compound_mac = c*(np.exp(n*mac)-1)/x\n",
    "compound_mac"
   ]
  },
  {
   "cell_type": "code",
   "execution_count": null,
   "id": "04ed6f63",
   "metadata": {},
   "outputs": [],
   "source": []
  },
  {
   "cell_type": "markdown",
   "id": "6fd28d78",
   "metadata": {},
   "source": [
    "# END"
   ]
  },
  {
   "cell_type": "code",
   "execution_count": null,
   "id": "e36f6648",
   "metadata": {},
   "outputs": [],
   "source": []
  }
 ],
 "metadata": {
  "kernelspec": {
   "display_name": "Python 3",
   "language": "python",
   "name": "python3"
  },
  "language_info": {
   "codemirror_mode": {
    "name": "ipython",
    "version": 3
   },
   "file_extension": ".py",
   "mimetype": "text/x-python",
   "name": "python",
   "nbconvert_exporter": "python",
   "pygments_lexer": "ipython3",
   "version": "3.8.8"
  }
 },
 "nbformat": 4,
 "nbformat_minor": 5
}

{
 "cells": [
  {
   "cell_type": "markdown",
   "id": "e962d17f",
   "metadata": {},
   "source": [
    "# Ratul Chakraborty\n",
    "# BDA 2nd Sem"
   ]
  },
  {
   "cell_type": "code",
   "execution_count": 1,
   "id": "a5edeb2e",
   "metadata": {},
   "outputs": [],
   "source": [
    "import numpy as np\n",
    "import pandas as pd\n",
    "import matplotlib.pyplot as plt\n",
    "import math"
   ]
  },
  {
   "cell_type": "code",
   "execution_count": 2,
   "id": "b18d5136",
   "metadata": {},
   "outputs": [],
   "source": [
    "import scipy.optimize"
   ]
  },
  {
   "cell_type": "code",
   "execution_count": 3,
   "id": "88fccf9f",
   "metadata": {
    "scrolled": true
   },
   "outputs": [],
   "source": [
    "#!pip install dataframe-image"
   ]
  },
  {
   "cell_type": "code",
   "execution_count": 4,
   "id": "7db1f50e",
   "metadata": {},
   "outputs": [],
   "source": [
    "import dataframe_image as dfi"
   ]
  },
  {
   "cell_type": "markdown",
   "id": "b1d06c2b",
   "metadata": {},
   "source": [
    "# Line Search"
   ]
  },
  {
   "cell_type": "code",
   "execution_count": 5,
   "id": "4f365c4e",
   "metadata": {},
   "outputs": [],
   "source": [
    "def func(x):\n",
    "    return x**2 + 2*x"
   ]
  },
  {
   "cell_type": "code",
   "execution_count": 6,
   "id": "5d39d818",
   "metadata": {},
   "outputs": [],
   "source": [
    "left = -3\n",
    "right = 5"
   ]
  },
  {
   "cell_type": "markdown",
   "id": "40741a63",
   "metadata": {},
   "source": [
    "# Fibonacci Search"
   ]
  },
  {
   "cell_type": "code",
   "execution_count": 7,
   "id": "41c07140",
   "metadata": {},
   "outputs": [],
   "source": [
    "def fib(x):\n",
    "    y = math.sqrt(5)\n",
    "    return round((((1 + y)/2)**x - ((1 - y)/2)**x)/y)"
   ]
  },
  {
   "cell_type": "code",
   "execution_count": 8,
   "id": "06edda0f",
   "metadata": {},
   "outputs": [
    {
     "data": {
      "text/plain": [
       "8"
      ]
     },
     "execution_count": 8,
     "metadata": {},
     "output_type": "execute_result"
    }
   ],
   "source": [
    "fib(6)"
   ]
  },
  {
   "cell_type": "code",
   "execution_count": 9,
   "id": "8745c4da",
   "metadata": {},
   "outputs": [],
   "source": [
    "def fibo(exr, a, b, n):\n",
    "    output = {}\n",
    "    output['a_k'] =[]\n",
    "    output['b_k'] = []\n",
    "    output['lam_k'] = []\n",
    "    output['miu_k'] = []\n",
    "    output['thi_l'] = []\n",
    "    output['thi_m'] = []\n",
    "    \n",
    "    for k in range(n, 0, -1):\n",
    "        if k == n:\n",
    "            ro = 1 - fib(k)/fib(k + 1)\n",
    "            lam = a + ro*(b-a)\n",
    "            miu = a + (1-ro)*(b-a)\n",
    "            \n",
    "        thi_l = exr(lam)\n",
    "        thi_m = exr(miu)\n",
    "                \n",
    "        output['a_k'].append(a)\n",
    "        output['b_k'].append(b)\n",
    "        output['lam_k'].append(lam)\n",
    "        output['miu_k'].append(miu)\n",
    "        output['thi_l'].append(thi_l)\n",
    "        output['thi_m'].append(thi_m)\n",
    "        \n",
    "        if thi_l > thi_m:\n",
    "            a = lam\n",
    "            lam = miu\n",
    "            ro = 1 - fib(k)/fib(k + 1)\n",
    "            miu = a + (1-ro)*(b-a)\n",
    "        else:\n",
    "            b = miu\n",
    "            miu = lam\n",
    "            ro = 1 - fib(k)/fib(k + 1)\n",
    "            lam = a + ro*(b-a)\n",
    "        \n",
    "    return pd.DataFrame(output, range(1, n+1)).round(3)\n",
    "        \n",
    "        "
   ]
  },
  {
   "cell_type": "code",
   "execution_count": 10,
   "id": "d61ecd79",
   "metadata": {},
   "outputs": [
    {
     "data": {
      "text/html": [
       "<div>\n",
       "<style scoped>\n",
       "    .dataframe tbody tr th:only-of-type {\n",
       "        vertical-align: middle;\n",
       "    }\n",
       "\n",
       "    .dataframe tbody tr th {\n",
       "        vertical-align: top;\n",
       "    }\n",
       "\n",
       "    .dataframe thead th {\n",
       "        text-align: right;\n",
       "    }\n",
       "</style>\n",
       "<table border=\"1\" class=\"dataframe\">\n",
       "  <thead>\n",
       "    <tr style=\"text-align: right;\">\n",
       "      <th></th>\n",
       "      <th>a_k</th>\n",
       "      <th>b_k</th>\n",
       "      <th>lam_k</th>\n",
       "      <th>miu_k</th>\n",
       "      <th>thi_l</th>\n",
       "      <th>thi_m</th>\n",
       "    </tr>\n",
       "  </thead>\n",
       "  <tbody>\n",
       "    <tr>\n",
       "      <th>1</th>\n",
       "      <td>-3.000</td>\n",
       "      <td>5.000</td>\n",
       "      <td>0.056</td>\n",
       "      <td>1.944</td>\n",
       "      <td>0.115</td>\n",
       "      <td>7.669</td>\n",
       "    </tr>\n",
       "    <tr>\n",
       "      <th>2</th>\n",
       "      <td>-3.000</td>\n",
       "      <td>1.944</td>\n",
       "      <td>-1.111</td>\n",
       "      <td>0.056</td>\n",
       "      <td>-0.988</td>\n",
       "      <td>0.115</td>\n",
       "    </tr>\n",
       "    <tr>\n",
       "      <th>3</th>\n",
       "      <td>-3.000</td>\n",
       "      <td>0.056</td>\n",
       "      <td>-1.833</td>\n",
       "      <td>-1.111</td>\n",
       "      <td>-0.306</td>\n",
       "      <td>-0.988</td>\n",
       "    </tr>\n",
       "    <tr>\n",
       "      <th>4</th>\n",
       "      <td>-1.833</td>\n",
       "      <td>0.056</td>\n",
       "      <td>-1.111</td>\n",
       "      <td>-0.666</td>\n",
       "      <td>-0.988</td>\n",
       "      <td>-0.888</td>\n",
       "    </tr>\n",
       "    <tr>\n",
       "      <th>5</th>\n",
       "      <td>-1.833</td>\n",
       "      <td>-0.666</td>\n",
       "      <td>-1.387</td>\n",
       "      <td>-1.111</td>\n",
       "      <td>-0.850</td>\n",
       "      <td>-0.988</td>\n",
       "    </tr>\n",
       "    <tr>\n",
       "      <th>6</th>\n",
       "      <td>-1.387</td>\n",
       "      <td>-0.666</td>\n",
       "      <td>-1.111</td>\n",
       "      <td>-0.941</td>\n",
       "      <td>-0.988</td>\n",
       "      <td>-0.997</td>\n",
       "    </tr>\n",
       "    <tr>\n",
       "      <th>7</th>\n",
       "      <td>-1.111</td>\n",
       "      <td>-0.666</td>\n",
       "      <td>-0.941</td>\n",
       "      <td>-0.836</td>\n",
       "      <td>-0.997</td>\n",
       "      <td>-0.973</td>\n",
       "    </tr>\n",
       "    <tr>\n",
       "      <th>8</th>\n",
       "      <td>-1.111</td>\n",
       "      <td>-0.836</td>\n",
       "      <td>-1.006</td>\n",
       "      <td>-0.941</td>\n",
       "      <td>-1.000</td>\n",
       "      <td>-0.997</td>\n",
       "    </tr>\n",
       "    <tr>\n",
       "      <th>9</th>\n",
       "      <td>-1.111</td>\n",
       "      <td>-0.941</td>\n",
       "      <td>-1.046</td>\n",
       "      <td>-1.006</td>\n",
       "      <td>-0.998</td>\n",
       "      <td>-1.000</td>\n",
       "    </tr>\n",
       "  </tbody>\n",
       "</table>\n",
       "</div>"
      ],
      "text/plain": [
       "     a_k    b_k  lam_k  miu_k  thi_l  thi_m\n",
       "1 -3.000  5.000  0.056  1.944  0.115  7.669\n",
       "2 -3.000  1.944 -1.111  0.056 -0.988  0.115\n",
       "3 -3.000  0.056 -1.833 -1.111 -0.306 -0.988\n",
       "4 -1.833  0.056 -1.111 -0.666 -0.988 -0.888\n",
       "5 -1.833 -0.666 -1.387 -1.111 -0.850 -0.988\n",
       "6 -1.387 -0.666 -1.111 -0.941 -0.988 -0.997\n",
       "7 -1.111 -0.666 -0.941 -0.836 -0.997 -0.973\n",
       "8 -1.111 -0.836 -1.006 -0.941 -1.000 -0.997\n",
       "9 -1.111 -0.941 -1.046 -1.006 -0.998 -1.000"
      ]
     },
     "execution_count": 10,
     "metadata": {},
     "output_type": "execute_result"
    }
   ],
   "source": [
    "fibo_tab = fibo(func, left, right, 20)\n",
    "fibo_tab[:9]"
   ]
  },
  {
   "cell_type": "code",
   "execution_count": 11,
   "id": "6c81cf55",
   "metadata": {},
   "outputs": [],
   "source": [
    "dfi.export(fibo_tab[:9],\"Fibonacci.png\")"
   ]
  },
  {
   "cell_type": "markdown",
   "id": "54ff863d",
   "metadata": {},
   "source": [
    "# Golden Section"
   ]
  },
  {
   "cell_type": "code",
   "execution_count": 12,
   "id": "d3857f83",
   "metadata": {},
   "outputs": [
    {
     "data": {
      "text/plain": [
       "1.618033988749895"
      ]
     },
     "execution_count": 12,
     "metadata": {},
     "output_type": "execute_result"
    }
   ],
   "source": [
    "golden = (1+ math.sqrt(5))/2\n",
    "golden"
   ]
  },
  {
   "cell_type": "code",
   "execution_count": 13,
   "id": "478e63d5",
   "metadata": {},
   "outputs": [
    {
     "data": {
      "text/plain": [
       "0.6180339887498949"
      ]
     },
     "execution_count": 13,
     "metadata": {},
     "output_type": "execute_result"
    }
   ],
   "source": [
    "alpha = golden - 1\n",
    "alpha"
   ]
  },
  {
   "cell_type": "code",
   "execution_count": 14,
   "id": "f1bfe933",
   "metadata": {},
   "outputs": [],
   "source": [
    "def golden(exr, a, b, n):\n",
    "    output = {}\n",
    "    output['a_k'] =[]\n",
    "    output['b_k'] = []\n",
    "    output['lam_k'] = []\n",
    "    output['miu_k'] = []\n",
    "    output['thi_l'] = []\n",
    "    output['thi_m'] = []\n",
    "    \n",
    "    for k in range(n):\n",
    "        if k == 0:\n",
    "            lam = a + (1 - alpha)*(b-a)\n",
    "            miu = a + (alpha)*(b-a)\n",
    "            \n",
    "        thi_l = exr(lam)\n",
    "        thi_m = exr(miu)\n",
    "                \n",
    "        output['a_k'].append(a)\n",
    "        output['b_k'].append(b)\n",
    "        output['lam_k'].append(lam)\n",
    "        output['miu_k'].append(miu)\n",
    "        output['thi_l'].append(thi_l)\n",
    "        output['thi_m'].append(thi_m)\n",
    "        \n",
    "        if thi_l > thi_m:\n",
    "            a = lam\n",
    "            lam = miu\n",
    "            miu = a + (alpha)*(b-a)\n",
    "        else:\n",
    "            b = miu\n",
    "            miu = lam\n",
    "            lam = a + (1 - alpha)*(b-a)\n",
    "        \n",
    "    return pd.DataFrame(output, range(1, n+1)).round(3)\n",
    "        \n",
    "        "
   ]
  },
  {
   "cell_type": "code",
   "execution_count": 15,
   "id": "ef1265bc",
   "metadata": {},
   "outputs": [
    {
     "data": {
      "text/html": [
       "<div>\n",
       "<style scoped>\n",
       "    .dataframe tbody tr th:only-of-type {\n",
       "        vertical-align: middle;\n",
       "    }\n",
       "\n",
       "    .dataframe tbody tr th {\n",
       "        vertical-align: top;\n",
       "    }\n",
       "\n",
       "    .dataframe thead th {\n",
       "        text-align: right;\n",
       "    }\n",
       "</style>\n",
       "<table border=\"1\" class=\"dataframe\">\n",
       "  <thead>\n",
       "    <tr style=\"text-align: right;\">\n",
       "      <th></th>\n",
       "      <th>a_k</th>\n",
       "      <th>b_k</th>\n",
       "      <th>lam_k</th>\n",
       "      <th>miu_k</th>\n",
       "      <th>thi_l</th>\n",
       "      <th>thi_m</th>\n",
       "    </tr>\n",
       "  </thead>\n",
       "  <tbody>\n",
       "    <tr>\n",
       "      <th>1</th>\n",
       "      <td>-3.000</td>\n",
       "      <td>5.000</td>\n",
       "      <td>0.056</td>\n",
       "      <td>1.944</td>\n",
       "      <td>0.115</td>\n",
       "      <td>7.669</td>\n",
       "    </tr>\n",
       "    <tr>\n",
       "      <th>2</th>\n",
       "      <td>-3.000</td>\n",
       "      <td>1.944</td>\n",
       "      <td>-1.111</td>\n",
       "      <td>0.056</td>\n",
       "      <td>-0.988</td>\n",
       "      <td>0.115</td>\n",
       "    </tr>\n",
       "    <tr>\n",
       "      <th>3</th>\n",
       "      <td>-3.000</td>\n",
       "      <td>0.056</td>\n",
       "      <td>-1.833</td>\n",
       "      <td>-1.111</td>\n",
       "      <td>-0.306</td>\n",
       "      <td>-0.988</td>\n",
       "    </tr>\n",
       "    <tr>\n",
       "      <th>4</th>\n",
       "      <td>-1.833</td>\n",
       "      <td>0.056</td>\n",
       "      <td>-1.111</td>\n",
       "      <td>-0.666</td>\n",
       "      <td>-0.988</td>\n",
       "      <td>-0.888</td>\n",
       "    </tr>\n",
       "    <tr>\n",
       "      <th>5</th>\n",
       "      <td>-1.833</td>\n",
       "      <td>-0.666</td>\n",
       "      <td>-1.387</td>\n",
       "      <td>-1.111</td>\n",
       "      <td>-0.850</td>\n",
       "      <td>-0.988</td>\n",
       "    </tr>\n",
       "    <tr>\n",
       "      <th>6</th>\n",
       "      <td>-1.387</td>\n",
       "      <td>-0.666</td>\n",
       "      <td>-1.111</td>\n",
       "      <td>-0.941</td>\n",
       "      <td>-0.988</td>\n",
       "      <td>-0.997</td>\n",
       "    </tr>\n",
       "    <tr>\n",
       "      <th>7</th>\n",
       "      <td>-1.111</td>\n",
       "      <td>-0.666</td>\n",
       "      <td>-0.941</td>\n",
       "      <td>-0.836</td>\n",
       "      <td>-0.997</td>\n",
       "      <td>-0.973</td>\n",
       "    </tr>\n",
       "    <tr>\n",
       "      <th>8</th>\n",
       "      <td>-1.111</td>\n",
       "      <td>-0.836</td>\n",
       "      <td>-1.006</td>\n",
       "      <td>-0.941</td>\n",
       "      <td>-1.000</td>\n",
       "      <td>-0.997</td>\n",
       "    </tr>\n",
       "    <tr>\n",
       "      <th>9</th>\n",
       "      <td>-1.111</td>\n",
       "      <td>-0.941</td>\n",
       "      <td>-1.046</td>\n",
       "      <td>-1.006</td>\n",
       "      <td>-0.998</td>\n",
       "      <td>-1.000</td>\n",
       "    </tr>\n",
       "  </tbody>\n",
       "</table>\n",
       "</div>"
      ],
      "text/plain": [
       "     a_k    b_k  lam_k  miu_k  thi_l  thi_m\n",
       "1 -3.000  5.000  0.056  1.944  0.115  7.669\n",
       "2 -3.000  1.944 -1.111  0.056 -0.988  0.115\n",
       "3 -3.000  0.056 -1.833 -1.111 -0.306 -0.988\n",
       "4 -1.833  0.056 -1.111 -0.666 -0.988 -0.888\n",
       "5 -1.833 -0.666 -1.387 -1.111 -0.850 -0.988\n",
       "6 -1.387 -0.666 -1.111 -0.941 -0.988 -0.997\n",
       "7 -1.111 -0.666 -0.941 -0.836 -0.997 -0.973\n",
       "8 -1.111 -0.836 -1.006 -0.941 -1.000 -0.997\n",
       "9 -1.111 -0.941 -1.046 -1.006 -0.998 -1.000"
      ]
     },
     "execution_count": 15,
     "metadata": {},
     "output_type": "execute_result"
    }
   ],
   "source": [
    "golden_tab = golden(func, left, right, 20)\n",
    "golden_tab[:9]"
   ]
  },
  {
   "cell_type": "code",
   "execution_count": 16,
   "id": "544e0392",
   "metadata": {},
   "outputs": [],
   "source": [
    "dfi.export(golden_tab[:9], \"Golden.png\")"
   ]
  },
  {
   "cell_type": "markdown",
   "id": "f88c7644",
   "metadata": {},
   "source": [
    "## Plot of Comparison"
   ]
  },
  {
   "cell_type": "code",
   "execution_count": 17,
   "id": "930dd32c",
   "metadata": {},
   "outputs": [
    {
     "data": {
      "image/png": "[encoded data removed]",
      "text/plain": [
       "<Figure size 600x400 with 2 Axes>"
      ]
     },
     "metadata": {
      "needs_background": "light"
     },
     "output_type": "display_data"
    }
   ],
   "source": [
    "fibo_interval = np.abs(fibo_tab.a_k - fibo_tab.b_k)\n",
    "golden_interval = np.abs(golden_tab.a_k - golden_tab.b_k)\n",
    "\n",
    "fig, axes = plt.subplots(nrows = 1, ncols = 2, dpi = 100)\n",
    "\n",
    "axes[0].plot(fibo_interval)\n",
    "axes[0].set_xlabel(\"No. of Iteration --->\")\n",
    "axes[0].set_ylabel(\"Length of Interval ---->\")\n",
    "axes[0].set_title(\"Fibonacci\")\n",
    "\n",
    "axes[1].plot(golden_interval)\n",
    "axes[1].set_xlabel(\"No. of Iteration --->\")\n",
    "axes[1].set_title(\"Golden\")\n",
    "\n",
    "fig.suptitle(\"Comparison\")\n",
    "\n",
    "plt.savefig(\"Comparison.png\")"
   ]
  },
  {
   "cell_type": "markdown",
   "id": "7cbbd917",
   "metadata": {},
   "source": [
    "## Verification"
   ]
  },
  {
   "cell_type": "code",
   "execution_count": 18,
   "id": "b405fd45",
   "metadata": {},
   "outputs": [
    {
     "data": {
      "text/plain": [
       "-0.9999999987444217"
      ]
     },
     "execution_count": 18,
     "metadata": {},
     "output_type": "execute_result"
    }
   ],
   "source": [
    "verify_golden = scipy.optimize.minimize_scalar(fun = func, bracket = (left, right), method = \"golden\")\n",
    "verify_golden.x"
   ]
  },
  {
   "cell_type": "code",
   "execution_count": 19,
   "id": "fd48b42e",
   "metadata": {},
   "outputs": [
    {
     "data": {
      "text/plain": [
       "-1.0"
      ]
     },
     "execution_count": 19,
     "metadata": {},
     "output_type": "execute_result"
    }
   ],
   "source": [
    "golden_tab.loc[20, \"thi_l\"]"
   ]
  },
  {
   "cell_type": "code",
   "execution_count": null,
   "id": "5d198b76",
   "metadata": {},
   "outputs": [],
   "source": []
  },
  {
   "cell_type": "markdown",
   "id": "9e514dcc",
   "metadata": {},
   "source": [
    "# Wolfe Condition"
   ]
  },
  {
   "cell_type": "code",
   "execution_count": 20,
   "id": "b51e40cb",
   "metadata": {},
   "outputs": [],
   "source": [
    "def obj_func(x):\n",
    "    return (x[0])**2 + 2*x[0]*x[1] + (x[1])**2\n",
    "def obj_grad(x):\n",
    "    return [2*x[0]+2*x[1], 2*x[0]+2*x[1]]"
   ]
  },
  {
   "cell_type": "code",
   "execution_count": 21,
   "id": "bd47466f",
   "metadata": {},
   "outputs": [],
   "source": [
    "search = np.array([1, 2])\n",
    "direction = np.array([-1, -1])\n",
    "c1 = 1 * 10^-4\n",
    "c2 = 0.9\n",
    "amax = 10\n",
    "maxiter = 10\n",
    "reduction = 0.5"
   ]
  },
  {
   "cell_type": "code",
   "execution_count": 22,
   "id": "56809a05",
   "metadata": {},
   "outputs": [
    {
     "data": {
      "text/plain": [
       "(1.0, 2, 1, 1.0, 9.0, [2.0, 2.0])"
      ]
     },
     "execution_count": 22,
     "metadata": {},
     "output_type": "execute_result"
    }
   ],
   "source": [
    "wolfe_opt = scipy.optimize.line_search(obj_func, obj_grad, search, direction, c1 = c1, c2 = c2, amax = amax, maxiter = maxiter)\n",
    "wolfe_opt"
   ]
  },
  {
   "cell_type": "code",
   "execution_count": 24,
   "id": "01d59268",
   "metadata": {},
   "outputs": [
    {
     "name": "stdout",
     "output_type": "stream",
     "text": [
      "Optima exists at [0. 1.]\n"
     ]
    }
   ],
   "source": [
    "alpha = wolfe_opt[0]\n",
    "optima = search + alpha*direction\n",
    "print(f\"Optima exists at {optima}\")"
   ]
  },
  {
   "cell_type": "code",
   "execution_count": null,
   "id": "d7b5a027",
   "metadata": {},
   "outputs": [],
   "source": []
  },
  {
   "cell_type": "code",
   "execution_count": null,
   "id": "bba66b90",
   "metadata": {},
   "outputs": [],
   "source": []
  }
 ],
 "metadata": {
  "kernelspec": {
   "display_name": "Python 3",
   "language": "python",
   "name": "python3"
  },
  "language_info": {
   "codemirror_mode": {
    "name": "ipython",
    "version": 3
   },
   "file_extension": ".py",
   "mimetype": "text/x-python",
   "name": "python",
   "nbconvert_exporter": "python",
   "pygments_lexer": "ipython3",
   "version": "3.8.8"
  }
 },
 "nbformat": 4,
 "nbformat_minor": 5
}
